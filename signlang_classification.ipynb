{
 "cells": [
  {
   "cell_type": "code",
   "execution_count": 4,
   "id": "da2ff74b",
   "metadata": {},
   "outputs": [],
   "source": [
    "import tensorflow as tf\n",
    "from tensorflow.keras.utils import to_categorical\n",
    "from tensorflow.keras.models import Sequential\n",
    "from tensorflow.keras.layers import Conv2D, MaxPooling2D, Dense, Flatten, Dropout, BatchNormalization\n",
    "from tensorflow.keras.layers.experimental.preprocessing import RandomFlip, RandomRotation, Resizing, Rescaling\n",
    "import pandas as pd\n",
    "import numpy as np\n",
    "from sklearn.metrics import accuracy_score\n",
    "import matplotlib.pyplot as plt"
   ]
  },
  {
   "cell_type": "markdown",
   "id": "ff2be5d8",
   "metadata": {},
   "source": [
    "# Data Preparation and Model Building"
   ]
  },
  {
   "cell_type": "code",
   "execution_count": 5,
   "id": "a9546676",
   "metadata": {},
   "outputs": [],
   "source": [
    "rawTrain = pd.read_csv(r'C:\\Users\\imuni\\OneDrive\\Desktop\\GMU\\Classes\\CS\\CS482\\finalproj\\sign_mnist_train.csv')\n",
    "rawTest = pd.read_csv(r'C:\\Users\\imuni\\OneDrive\\Desktop\\GMU\\Classes\\CS\\CS482\\finalproj\\sign_mnist_test.csv')"
   ]
  },
  {
   "cell_type": "code",
   "execution_count": 6,
   "id": "11339f0a",
   "metadata": {},
   "outputs": [],
   "source": [
    "trainData = np.array(rawTrain, dtype='float32')\n",
    "testData = np.array(rawTest, dtype='float32')"
   ]
  },
  {
   "cell_type": "code",
   "execution_count": 7,
   "id": "97862c69",
   "metadata": {},
   "outputs": [
    {
     "data": {
      "text/plain": [
       "array([[  3., 107., 118., ..., 204., 203., 202.],\n",
       "       [  6., 155., 157., ..., 103., 135., 149.],\n",
       "       [  2., 187., 188., ..., 195., 194., 195.],\n",
       "       ...,\n",
       "       [ 18., 174., 174., ..., 202., 200., 200.],\n",
       "       [ 17., 177., 181., ...,  64.,  87.,  93.],\n",
       "       [ 23., 179., 180., ..., 205., 209., 215.]], dtype=float32)"
      ]
     },
     "execution_count": 7,
     "metadata": {},
     "output_type": "execute_result"
    }
   ],
   "source": [
    "trainData"
   ]
  },
  {
   "cell_type": "code",
   "execution_count": 8,
   "id": "473ce91c",
   "metadata": {},
   "outputs": [
    {
     "data": {
      "text/plain": [
       "(27455, 785)"
      ]
     },
     "execution_count": 8,
     "metadata": {},
     "output_type": "execute_result"
    }
   ],
   "source": [
    "trainData.shape"
   ]
  },
  {
   "cell_type": "code",
   "execution_count": 9,
   "id": "d665fe4f",
   "metadata": {},
   "outputs": [
    {
     "data": {
      "text/plain": [
       "(7172, 785)"
      ]
     },
     "execution_count": 9,
     "metadata": {},
     "output_type": "execute_result"
    }
   ],
   "source": [
    "testData.shape"
   ]
  },
  {
   "cell_type": "code",
   "execution_count": 10,
   "id": "2ce1dd73",
   "metadata": {},
   "outputs": [],
   "source": [
    "labels = []\n",
    "for i in range(65, 90):\n",
    "    if i != 74:\n",
    "        labels.append(chr(i))"
   ]
  },
  {
   "cell_type": "code",
   "execution_count": 11,
   "id": "ac040907",
   "metadata": {},
   "outputs": [
    {
     "data": {
      "text/plain": [
       "['A',\n",
       " 'B',\n",
       " 'C',\n",
       " 'D',\n",
       " 'E',\n",
       " 'F',\n",
       " 'G',\n",
       " 'H',\n",
       " 'I',\n",
       " 'K',\n",
       " 'L',\n",
       " 'M',\n",
       " 'N',\n",
       " 'O',\n",
       " 'P',\n",
       " 'Q',\n",
       " 'R',\n",
       " 'S',\n",
       " 'T',\n",
       " 'U',\n",
       " 'V',\n",
       " 'W',\n",
       " 'X',\n",
       " 'Y']"
      ]
     },
     "execution_count": 11,
     "metadata": {},
     "output_type": "execute_result"
    }
   ],
   "source": [
    "labels"
   ]
  },
  {
   "cell_type": "code",
   "execution_count": 12,
   "id": "2dc3edd9",
   "metadata": {},
   "outputs": [
    {
     "name": "stdout",
     "output_type": "stream",
     "text": [
      "Label is P\n"
     ]
    },
    {
     "data": {
      "image/png": "[encoded data removed]",
      "text/plain": [
       "<Figure size 432x288 with 1 Axes>"
      ]
     },
     "metadata": {
      "needs_background": "light"
     },
     "output_type": "display_data"
    }
   ],
   "source": [
    "sampleIdx = 125\n",
    "sample_img = trainData[sampleIdx, 1:].reshape((28, 28))\n",
    "plt.imshow(sample_img, cmap='gray')\n",
    "print('Label is', labels[int(trainData[sampleIdx, 0])])"
   ]
  },
  {
   "cell_type": "code",
   "execution_count": 13,
   "id": "20cbb407",
   "metadata": {},
   "outputs": [],
   "source": [
    "trainX = trainData[:, 1:]/255.0\n",
    "testX = testData[:, 1:]/255.0\n",
    "trainY = trainData[:, 0]\n",
    "trainYCategorical = to_categorical(trainY, num_classes=25)\n",
    "testY = testData[:, 0]\n",
    "testYCategorical = to_categorical(testY, num_classes=25)"
   ]
  },
  {
   "cell_type": "code",
   "execution_count": 14,
   "id": "a4261650",
   "metadata": {},
   "outputs": [],
   "source": [
    "trainX = trainX.reshape((trainX.shape[0], 28, 28, 1))\n",
    "testX = testX.reshape((testY.shape[0], 28, 28, 1))"
   ]
  },
  {
   "cell_type": "code",
   "execution_count": 15,
   "id": "b98eec87",
   "metadata": {},
   "outputs": [
    {
     "name": "stdout",
     "output_type": "stream",
     "text": [
      "(27455, 28, 28, 1)\n",
      "(7172, 28, 28, 1)\n",
      "(27455, 25)\n",
      "(7172, 25)\n"
     ]
    }
   ],
   "source": [
    "print(trainX.shape)\n",
    "print(testX.shape)\n",
    "print(trainYCategorical.shape)\n",
    "print(testYCategorical.shape)"
   ]
  },
  {
   "cell_type": "code",
   "execution_count": 16,
   "id": "13e52d66",
   "metadata": {},
   "outputs": [],
   "source": [
    "batchSize = 128\n",
    "numEpochs = 10"
   ]
  },
  {
   "cell_type": "code",
   "execution_count": 17,
   "id": "405211bd",
   "metadata": {},
   "outputs": [],
   "source": [
    "cnn = Sequential()\n",
    "cnn.add(Conv2D(32, (3, 3), input_shape=(28, 28, 1), activation='relu'))\n",
    "cnn.add(Conv2D(32, (3, 3), activation='relu'))\n",
    "#cnn.add(BatchNormalization())\n",
    "cnn.add(MaxPooling2D(pool_size=(2, 2)))\n",
    "cnn.add(Dropout(0.25))\n",
    "\n",
    "cnn.add(Conv2D(64, (3, 3), activation='relu'))\n",
    "cnn.add(Conv2D(64, (3, 3), activation='relu'))\n",
    "#cnn.add(BatchNormalization())\n",
    "cnn.add(MaxPooling2D(pool_size=(2, 2)))\n",
    "cnn.add(Dropout(0.25))\n",
    "\n",
    "cnn.add(Conv2D(128, (3, 3), activation='relu'))\n",
    "#cnn.add(BatchNormalization())\n",
    "cnn.add(MaxPooling2D(pool_size=(2, 2)))\n",
    "cnn.add(Dropout(0.25))\n",
    "\n",
    "cnn.add(Flatten())\n",
    "cnn.add(Dense(128, activation='relu'))\n",
    "cnn.add(Dropout(0.25))\n",
    "cnn.add(Dense(25, activation='softmax'))"
   ]
  },
  {
   "cell_type": "code",
   "execution_count": 18,
   "id": "7d4005f5",
   "metadata": {},
   "outputs": [
    {
     "name": "stdout",
     "output_type": "stream",
     "text": [
      "Model: \"sequential\"\n",
      "_________________________________________________________________\n",
      "Layer (type)                 Output Shape              Param #   \n",
      "=================================================================\n",
      "conv2d (Conv2D)              (None, 26, 26, 32)        320       \n",
      "_________________________________________________________________\n",
      "conv2d_1 (Conv2D)            (None, 24, 24, 32)        9248      \n",
      "_________________________________________________________________\n",
      "max_pooling2d (MaxPooling2D) (None, 12, 12, 32)        0         \n",
      "_________________________________________________________________\n",
      "dropout (Dropout)            (None, 12, 12, 32)        0         \n",
      "_________________________________________________________________\n",
      "conv2d_2 (Conv2D)            (None, 10, 10, 64)        18496     \n",
      "_________________________________________________________________\n",
      "conv2d_3 (Conv2D)            (None, 8, 8, 64)          36928     \n",
      "_________________________________________________________________\n",
      "max_pooling2d_1 (MaxPooling2 (None, 4, 4, 64)          0         \n",
      "_________________________________________________________________\n",
      "dropout_1 (Dropout)          (None, 4, 4, 64)          0         \n",
      "_________________________________________________________________\n",
      "conv2d_4 (Conv2D)            (None, 2, 2, 128)         73856     \n",
      "_________________________________________________________________\n",
      "max_pooling2d_2 (MaxPooling2 (None, 1, 1, 128)         0         \n",
      "_________________________________________________________________\n",
      "dropout_2 (Dropout)          (None, 1, 1, 128)         0         \n",
      "_________________________________________________________________\n",
      "flatten (Flatten)            (None, 128)               0         \n",
      "_________________________________________________________________\n",
      "dense (Dense)                (None, 128)               16512     \n",
      "_________________________________________________________________\n",
      "dropout_3 (Dropout)          (None, 128)               0         \n",
      "_________________________________________________________________\n",
      "dense_1 (Dense)              (None, 25)                3225      \n",
      "=================================================================\n",
      "Total params: 158,585\n",
      "Trainable params: 158,585\n",
      "Non-trainable params: 0\n",
      "_________________________________________________________________\n"
     ]
    }
   ],
   "source": [
    "cnn.compile(loss='categorical_crossentropy', optimizer='adam', metrics=['acc'])\n",
    "cnn.summary()"
   ]
  },
  {
   "cell_type": "code",
   "execution_count": 19,
   "id": "c8b78b05",
   "metadata": {},
   "outputs": [
    {
     "name": "stdout",
     "output_type": "stream",
     "text": [
      "Epoch 1/10\n",
      "215/215 [==============================] - 33s 153ms/step - loss: 2.4655 - acc: 0.2358 - val_loss: 1.0750 - val_acc: 0.6718\n",
      "Epoch 2/10\n",
      "215/215 [==============================] - 34s 160ms/step - loss: 0.7516 - acc: 0.7441 - val_loss: 0.3718 - val_acc: 0.8919\n",
      "Epoch 3/10\n",
      "215/215 [==============================] - 34s 158ms/step - loss: 0.3095 - acc: 0.8943 - val_loss: 0.1965 - val_acc: 0.9465\n",
      "Epoch 4/10\n",
      "215/215 [==============================] - 37s 174ms/step - loss: 0.1794 - acc: 0.9394 - val_loss: 0.1641 - val_acc: 0.9650\n",
      "Epoch 5/10\n",
      "215/215 [==============================] - 37s 170ms/step - loss: 0.1204 - acc: 0.9601 - val_loss: 0.1196 - val_acc: 0.9713\n",
      "Epoch 6/10\n",
      "215/215 [==============================] - 35s 163ms/step - loss: 0.0905 - acc: 0.9708 - val_loss: 0.1159 - val_acc: 0.9686\n",
      "Epoch 7/10\n",
      "215/215 [==============================] - 34s 160ms/step - loss: 0.0696 - acc: 0.9783 - val_loss: 0.1102 - val_acc: 0.9742\n",
      "Epoch 8/10\n",
      "215/215 [==============================] - 36s 169ms/step - loss: 0.0540 - acc: 0.9827 - val_loss: 0.0983 - val_acc: 0.9721\n",
      "Epoch 9/10\n",
      "215/215 [==============================] - 40s 184ms/step - loss: 0.0492 - acc: 0.9841 - val_loss: 0.1077 - val_acc: 0.9739\n",
      "Epoch 10/10\n",
      "215/215 [==============================] - 40s 185ms/step - loss: 0.0461 - acc: 0.9853 - val_loss: 0.0890 - val_acc: 0.9714\n"
     ]
    }
   ],
   "source": [
    "performance = cnn.fit(trainX, trainYCategorical, batch_size=batchSize, epochs=numEpochs, verbose=1, validation_data=(testX, testYCategorical))"
   ]
  },
  {
   "cell_type": "code",
   "execution_count": 20,
   "id": "dd43246b",
   "metadata": {},
   "outputs": [
    {
     "name": "stdout",
     "output_type": "stream",
     "text": [
      "Test accuracy was 0.9714166201896264\n"
     ]
    }
   ],
   "source": [
    "forecast = np.argmax(cnn.predict(testX), axis=-1)\n",
    "accuracy = accuracy_score(testY, forecast)\n",
    "print('Test accuracy was', accuracy)"
   ]
  },
  {
   "cell_type": "code",
   "execution_count": 21,
   "id": "bb479826",
   "metadata": {},
   "outputs": [
    {
     "data": {
      "image/png": "[encoded data removed]",
      "text/plain": [
       "<Figure size 432x288 with 1 Axes>"
      ]
     },
     "metadata": {
      "needs_background": "light"
     },
     "output_type": "display_data"
    }
   ],
   "source": [
    "trLoss = performance.history['loss']\n",
    "valLoss = performance.history['val_loss']\n",
    "epochs = range(1, len(trLoss) + 1)\n",
    "plt.plot(epochs, trLoss, 'b', label='Training')\n",
    "plt.plot(epochs, valLoss, 'c', label='Validation')\n",
    "plt.legend()\n",
    "plt.title('Categorical Cross-Entropy Loss')\n",
    "plt.xlabel('Epoch')\n",
    "plt.ylabel('Loss')\n",
    "plt.show()"
   ]
  },
  {
   "cell_type": "code",
   "execution_count": 22,
   "id": "3f67e1fc",
   "metadata": {},
   "outputs": [
    {
     "data": {
      "image/png": "[encoded data removed]",
      "text/plain": [
       "<Figure size 432x288 with 1 Axes>"
      ]
     },
     "metadata": {
      "needs_background": "light"
     },
     "output_type": "display_data"
    }
   ],
   "source": [
    "trAcc = performance.history['acc']\n",
    "valAcc = performance.history['val_acc']\n",
    "plt.plot(epochs, trAcc, 'r', label='Training')\n",
    "plt.plot(epochs, valAcc, 'm', label='Validation')\n",
    "plt.legend()\n",
    "plt.title('Network Accuracy')\n",
    "plt.xlabel('Epoch')\n",
    "plt.ylabel('Accuracy')\n",
    "plt.show()"
   ]
  },
  {
   "cell_type": "code",
   "execution_count": 23,
   "id": "cd2a7e29",
   "metadata": {},
   "outputs": [
    {
     "data": {
      "image/png": "[encoded data removed]",
      "text/plain": [
       "<Figure size 432x288 with 2 Axes>"
      ]
     },
     "metadata": {
      "needs_background": "light"
     },
     "output_type": "display_data"
    }
   ],
   "source": [
    "from sklearn.metrics import ConfusionMatrixDisplay, confusion_matrix\n",
    "\n",
    "confusionMatrix = confusion_matrix(testY, forecast)\n",
    "display = ConfusionMatrixDisplay(confusion_matrix=confusionMatrix, display_labels=labels)\n",
    "display.plot(cmap=plt.cm.plasma)\n",
    "plt.show()"
   ]
  },
  {
   "cell_type": "code",
   "execution_count": 296,
   "id": "31138b8c",
   "metadata": {},
   "outputs": [
    {
     "name": "stdout",
     "output_type": "stream",
     "text": [
      "The CNN has been saved\n"
     ]
    }
   ],
   "source": [
    "cnn.save('signlang_cnn.h5')\n",
    "print('The CNN has been saved')"
   ]
  },
  {
   "cell_type": "code",
   "execution_count": 1,
   "id": "979667dd",
   "metadata": {},
   "outputs": [],
   "source": [
    "from tensorflow.keras.models import load_model\n",
    "cnn = load_model(r'C:\\Users\\imuni\\OneDrive\\Desktop\\GMU\\Classes\\CS\\CS482\\finalproj\\signlang_cnn.h5')"
   ]
  },
  {
   "cell_type": "markdown",
   "id": "0f36a9f5",
   "metadata": {},
   "source": [
    "# Real-World Testing/Application"
   ]
  },
  {
   "cell_type": "markdown",
   "id": "ee7777cf",
   "metadata": {},
   "source": [
    "This secondary program was used to test the CNN on my actual hand instead of testing on images from the given test set"
   ]
  },
  {
   "cell_type": "code",
   "execution_count": 2,
   "id": "e47b67e8",
   "metadata": {},
   "outputs": [],
   "source": [
    "import cv2\n",
    "import numpy as np"
   ]
  },
  {
   "cell_type": "code",
   "execution_count": 11,
   "id": "53428411",
   "metadata": {},
   "outputs": [
    {
     "ename": "AttributeError",
     "evalue": "'cv2.VideoCapture' object has no attribute 'destroyAllWindows'",
     "output_type": "error",
     "traceback": [
      "\u001b[1;31m---------------------------------------------------------------------------\u001b[0m",
      "\u001b[1;31mAttributeError\u001b[0m                            Traceback (most recent call last)",
      "\u001b[1;32m<ipython-input-11-216776f59470>\u001b[0m in \u001b[0;36m<module>\u001b[1;34m\u001b[0m\n\u001b[0;32m     27\u001b[0m \u001b[1;31m#print(capture.shape)\u001b[0m\u001b[1;33m\u001b[0m\u001b[1;33m\u001b[0m\u001b[1;33m\u001b[0m\u001b[0m\n\u001b[0;32m     28\u001b[0m \u001b[0mcapture\u001b[0m\u001b[1;33m.\u001b[0m\u001b[0mrelease\u001b[0m\u001b[1;33m(\u001b[0m\u001b[1;33m)\u001b[0m\u001b[1;33m\u001b[0m\u001b[1;33m\u001b[0m\u001b[0m\n\u001b[1;32m---> 29\u001b[1;33m \u001b[0mcapture\u001b[0m\u001b[1;33m.\u001b[0m\u001b[0mdestroyAllWindows\u001b[0m\u001b[1;33m(\u001b[0m\u001b[1;33m)\u001b[0m\u001b[1;33m\u001b[0m\u001b[1;33m\u001b[0m\u001b[0m\n\u001b[0m",
      "\u001b[1;31mAttributeError\u001b[0m: 'cv2.VideoCapture' object has no attribute 'destroyAllWindows'"
     ]
    }
   ],
   "source": [
    "capture = cv2.VideoCapture(0)\n",
    "\n",
    "while True:\n",
    "    ret, frame = capture.read()\n",
    "    height, width = frame.shape[0:2]\n",
    "    region = frame[100:400, 200:500]\n",
    "    \n",
    "    region = cv2.cvtColor(region, cv2.COLOR_BGR2GRAY)\n",
    "    region = cv2.resize(region, (28, 28), interpolation=cv2.INTER_AREA)\n",
    "    dup = frame.copy()\n",
    "    cv2.rectangle(dup, (200, 100), (500, 400), (0, 255, 0), 3)\n",
    "\n",
    "    region = region.reshape(1, 28, 28, 1)\n",
    "    \n",
    "    labelChosen = chr(np.argmax(cnn.predict(region, 1, verbose=0)[0]) + 65)\n",
    "    cv2.putText(dup, 'Prediction: ' + labelChosen, (140, height - 20), cv2.FONT_HERSHEY_DUPLEX, 2, (255, 189, 25), 2, lineType=cv2.LINE_AA)\n",
    "    cv2.imshow('CS 482 Final Project: Sign Language Classification', dup)\n",
    "    \n",
    "    if cv2.waitKey(30) & 0xFF == ord('q'):\n",
    "        break\n",
    "    \n",
    "    \n",
    "capture.release()\n",
    "capture.destroyAllWindows()"
   ]
  },
  {
   "cell_type": "code",
   "execution_count": null,
   "id": "64428b55",
   "metadata": {},
   "outputs": [],
   "source": []
  }
 ],
 "metadata": {
  "kernelspec": {
   "display_name": "Python 3",
   "language": "python",
   "name": "python3"
  },
  "language_info": {
   "codemirror_mode": {
    "name": "ipython",
    "version": 3
   },
   "file_extension": ".py",
   "mimetype": "text/x-python",
   "name": "python",
   "nbconvert_exporter": "python",
   "pygments_lexer": "ipython3",
   "version": "3.8.8"
  }
 },
 "nbformat": 4,
 "nbformat_minor": 5
}
